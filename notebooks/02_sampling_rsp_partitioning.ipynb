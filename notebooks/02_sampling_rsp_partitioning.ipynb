{
 "cells": [
  {
   "cell_type": "code",
   "execution_count": null,
   "id": "8f9638de",
   "metadata": {},
   "outputs": [
    {
     "name": "stdout",
     "output_type": "stream",
     "text": [
      "Total Rows: 10299\n",
      "Block Size: 500\n",
      "Number of Blocks: 20\n",
      "Block 0 processed: 300 train / 200 test samples\n",
      "Block 1 processed: 300 train / 200 test samples\n",
      "Block 2 processed: 300 train / 200 test samples\n",
      "Block 3 processed: 300 train / 200 test samples\n",
      "Block 4 processed: 300 train / 200 test samples\n",
      "Block 5 processed: 300 train / 200 test samples\n",
      "Block 6 processed: 300 train / 200 test samples\n",
      "Block 7 processed: 300 train / 200 test samples\n",
      "Block 8 processed: 300 train / 200 test samples\n",
      "Block 9 processed: 300 train / 200 test samples\n",
      "Block 10 processed: 300 train / 200 test samples\n",
      "Block 11 processed: 300 train / 200 test samples\n",
      "Block 12 processed: 300 train / 200 test samples\n",
      "Block 13 processed: 300 train / 200 test samples\n",
      "Block 14 processed: 300 train / 200 test samples\n",
      "Block 15 processed: 300 train / 200 test samples\n",
      "Block 16 processed: 300 train / 200 test samples\n",
      "Block 17 processed: 300 train / 200 test samples\n",
      "Block 18 processed: 300 train / 200 test samples\n",
      "Block 19 processed: 300 train / 200 test samples\n",
      "\n",
      "Completed RSP across 20 blocks.\n"
     ]
    }
   ],
   "source": [
    "import pandas as pd\n",
    "import numpy as np\n",
    "from sklearn.model_selection import train_test_split\n",
    "import os\n",
    "\n",
    "\n",
    "full_df = pd.read_csv('../data/full_merged.csv')\n",
    "\n",
    "# Step 1: Add a random key\n",
    "np.random.seed(42)\n",
    "full_df['rand_key'] = np.random.rand(len(full_df))\n",
    "\n",
    "# Step 2: Sort by rand_key (this is the core of RSP)\n",
    "full_df_sorted = full_df.sort_values('rand_key').reset_index(drop=True)\n",
    "\n",
    "# Step 3: Partition into blocks\n",
    "block_size = 500  # Choose based on dataset size\n",
    "total_rows = len(full_df_sorted)\n",
    "num_blocks = total_rows // block_size\n",
    "\n",
    "print(f\"Total Rows: {total_rows}\")\n",
    "print(f\"Block Size: {block_size}\")\n",
    "print(f\"Number of Blocks: {num_blocks}\")\n",
    "\n",
    "# Step 4: Initialize storage for all splits\n",
    "X_trains = []\n",
    "X_tests = []\n",
    "y_trains = []\n",
    "y_tests = []\n",
    "\n",
    "label_column = full_df_sorted.columns[-2]  # Assuming last column is rand_key, second last is label\n",
    "\n",
    "# Step 5: Iterate over each block\n",
    "for block_index in range(num_blocks):\n",
    "    start = block_index * block_size\n",
    "    end = start + block_size\n",
    "    block_df = full_df_sorted.iloc[start:end].copy()\n",
    "    \n",
    "    # Drop rand_key\n",
    "    block_df.drop(columns=['rand_key'], inplace=True)\n",
    "    \n",
    "    # Split into features and labels\n",
    "    X = block_df.drop(columns=[label_column])\n",
    "    y = block_df[label_column]\n",
    "    \n",
    "    # 60/40 train-test split\n",
    "    X_train, X_test, y_train, y_test = train_test_split(\n",
    "        X, y, train_size=0.6, stratify=y, random_state=42\n",
    "    )\n",
    "    \n",
    "    # Store splits\n",
    "    X_trains.append(X_train)\n",
    "    X_tests.append(X_test)\n",
    "    y_trains.append(y_train)\n",
    "    y_tests.append(y_test)\n",
    "    \n",
    "    print(f\"Block {block_index} processed: {X_train.shape[0]} train / {X_test.shape[0]} test samples\")\n",
    "\n",
    "print(f\"\\nCompleted RSP across {num_blocks} blocks.\")\n"
   ]
  },
  {
   "cell_type": "code",
   "execution_count": null,
   "id": "f6909980",
   "metadata": {},
   "outputs": [
    {
     "name": "stdout",
     "output_type": "stream",
     "text": [
      "✅ All 20 sample blocks saved to /data/blocks/\n"
     ]
    }
   ],
   "source": [
    "# Saving blocks in the local storage\n",
    "for i in range(num_blocks):\n",
    "    X_trains[i].to_csv(f'../data/blocks/X_train_block_{i}.csv', index=False)\n",
    "    X_tests[i].to_csv(f'../data/blocks/X_test_block_{i}.csv', index=False)\n",
    "    y_trains[i].to_csv(f'../data/blocks/y_train_block_{i}.csv', index=False)\n",
    "    y_tests[i].to_csv(f'../data/blocks/y_test_block_{i}.csv', index=False)\n",
    "\n",
    "print(f\"All {num_blocks} sample blocks saved to /data/blocks/\")"
   ]
  }
 ],
 "metadata": {
  "kernelspec": {
   "display_name": "base",
   "language": "python",
   "name": "python3"
  },
  "language_info": {
   "codemirror_mode": {
    "name": "ipython",
    "version": 3
   },
   "file_extension": ".py",
   "mimetype": "text/x-python",
   "name": "python",
   "nbconvert_exporter": "python",
   "pygments_lexer": "ipython3",
   "version": "3.13.5"
  }
 },
 "nbformat": 4,
 "nbformat_minor": 5
}
