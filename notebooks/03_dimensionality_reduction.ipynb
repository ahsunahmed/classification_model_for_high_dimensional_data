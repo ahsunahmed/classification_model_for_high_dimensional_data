{
 "cells": [
  {
   "cell_type": "code",
   "execution_count": 8,
   "id": "e50f229c",
   "metadata": {},
   "outputs": [],
   "source": [
    "import os\n",
    "import pandas as pd\n",
    "from sklearn.decomposition import PCA\n",
    "from sklearn.preprocessing import StandardScaler\n",
    "import glob\n"
   ]
  },
  {
   "cell_type": "code",
   "execution_count": 9,
   "id": "faa1bcbf",
   "metadata": {},
   "outputs": [],
   "source": [
    "# Folder containing sample blocks\n",
    "block_dir = '../data/blocks'\n",
    "\n",
    "# Number of blocks saved earlier\n",
    "num_blocks = len(glob.glob('../data/blocks/X_train_block_*.csv'))\n",
    "\n",
    "# Set fixed number of PCA components (e.g., 50)\n",
    "fixed_n_components = 50"
   ]
  },
  {
   "cell_type": "code",
   "execution_count": 6,
   "id": "58657f53",
   "metadata": {},
   "outputs": [
    {
     "name": "stdout",
     "output_type": "stream",
     "text": [
      "\n",
      "Processing Block 0...\n",
      "  Original dims: 562\n",
      "  Reduced dims: 50\n",
      "\n",
      "Processing Block 1...\n",
      "  Original dims: 562\n",
      "  Reduced dims: 50\n",
      "\n",
      "Processing Block 2...\n",
      "  Original dims: 562\n",
      "  Reduced dims: 50\n",
      "\n",
      "Processing Block 3...\n",
      "  Original dims: 562\n",
      "  Reduced dims: 50\n",
      "\n",
      "Processing Block 4...\n",
      "  Original dims: 562\n",
      "  Reduced dims: 50\n"
     ]
    }
   ],
   "source": [
    "# Storage for transformed blocks\n",
    "X_trains_pca = []\n",
    "X_tests_pca = []\n",
    "pca_models = []\n",
    "\n",
    "for i in range(num_blocks):\n",
    "    print(f\"\\nProcessing Block {i}...\")\n",
    "\n",
    "    # Load original train/test splits\n",
    "    X_train = pd.read_csv(f'{block_dir}/X_train_block_{i}.csv')\n",
    "    X_test = pd.read_csv(f'{block_dir}/X_test_block_{i}.csv')\n",
    "\n",
    "    # Step 1: Standardize\n",
    "    scaler = StandardScaler()\n",
    "    X_train_scaled = scaler.fit_transform(X_train)\n",
    "    X_test_scaled = scaler.transform(X_test)\n",
    "\n",
    "    # Step 2: Apply PCA with fixed number of components\n",
    "    pca = PCA(n_components=fixed_n_components)\n",
    "    X_train_pca = pca.fit_transform(X_train_scaled)\n",
    "    X_test_pca = pca.transform(X_test_scaled)\n",
    "\n",
    "    # Step 3: Store results\n",
    "    X_trains_pca.append(X_train_pca)\n",
    "    X_tests_pca.append(X_test_pca)\n",
    "    pca_models.append(pca)\n",
    "\n",
    "    print(f\"  Original dims: {X_train.shape[1]}\")\n",
    "    print(f\"  Reduced dims: {X_train_pca.shape[1]}\")\n"
   ]
  },
  {
   "cell_type": "code",
   "execution_count": 7,
   "id": "5245dd89",
   "metadata": {},
   "outputs": [],
   "source": [
    "for i in range(num_blocks):\n",
    "    pd.DataFrame(X_trains_pca[i]).to_csv(f'{block_dir}/X_train_pca_block_{i}.csv', index=False)\n",
    "    pd.DataFrame(X_tests_pca[i]).to_csv(f'{block_dir}/X_test_pca_block_{i}.csv', index=False)\n"
   ]
  }
 ],
 "metadata": {
  "kernelspec": {
   "display_name": "base",
   "language": "python",
   "name": "python3"
  },
  "language_info": {
   "codemirror_mode": {
    "name": "ipython",
    "version": 3
   },
   "file_extension": ".py",
   "mimetype": "text/x-python",
   "name": "python",
   "nbconvert_exporter": "python",
   "pygments_lexer": "ipython3",
   "version": "3.13.5"
  }
 },
 "nbformat": 4,
 "nbformat_minor": 5
}
